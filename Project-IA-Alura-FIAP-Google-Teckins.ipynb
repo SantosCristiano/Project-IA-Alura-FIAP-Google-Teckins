{
  "nbformat": 4,
  "nbformat_minor": 0,
  "metadata": {
    "colab": {
      "provenance": [],
      "authorship_tag": "ABX9TyPIzoTZ18R3ijemftGyIdgd",
      "include_colab_link": true
    },
    "kernelspec": {
      "name": "python3",
      "display_name": "Python 3"
    },
    "language_info": {
      "name": "python"
    }
  },
  "cells": [
    {
      "cell_type": "markdown",
      "metadata": {
        "id": "view-in-github",
        "colab_type": "text"
      },
      "source": [
        "<a href=\"https://colab.research.google.com/github/SantosCristiano/Project-IA-Alura-FIAP-Google-Teckins/blob/main/Project-IA-Alura-FIAP-Google-Teckins.ipynb\" target=\"_parent\"><img src=\"https://colab.research.google.com/assets/colab-badge.svg\" alt=\"Open In Colab\"/></a>"
      ]
    },
    {
      "cell_type": "code",
      "execution_count": 1,
      "metadata": {
        "id": "bDzgs31aiAh4"
      },
      "outputs": [],
      "source": [
        "#Instalando o SDK do Google\n",
        "!pip install -q -U google-generativeai"
      ]
    },
    {
      "cell_type": "code",
      "source": [
        "#Configurações iniciais\n",
        "import google.generativeai as genai\n",
        "\n",
        "#GOOGLE_API_KEY=\"INSIRA_SUA_API_KEY\"\n",
        "from google.colab import userdata\n",
        "GOOGLE_API_KEY = userdata.get('SECRET_KEY')\n",
        "\n",
        "genai.configure(api_key=GOOGLE_API_KEY)"
      ],
      "metadata": {
        "id": "2bZX6NWFiSNQ"
      },
      "execution_count": 2,
      "outputs": []
    },
    {
      "cell_type": "code",
      "source": [
        "#Listando os modelos disponíveis\n",
        "for m in genai.list_models():\n",
        "  if 'generateContent' in m.supported_generation_methods:\n",
        "    print(m.name)"
      ],
      "metadata": {
        "colab": {
          "base_uri": "https://localhost:8080/",
          "height": 139
        },
        "id": "JvmvyIOqi--y",
        "outputId": "eb05bde7-c6cb-4e52-fe8b-16d65475839c"
      },
      "execution_count": 3,
      "outputs": [
        {
          "output_type": "stream",
          "name": "stdout",
          "text": [
            "models/gemini-1.0-pro\n",
            "models/gemini-1.0-pro-001\n",
            "models/gemini-1.0-pro-latest\n",
            "models/gemini-1.0-pro-vision-latest\n",
            "models/gemini-1.5-pro-latest\n",
            "models/gemini-pro\n",
            "models/gemini-pro-vision\n"
          ]
        }
      ]
    },
    {
      "cell_type": "code",
      "source": [
        "generation_config = {\n",
        "  \"candidate_count\": 1,\n",
        "  \"temperature\": 0.5,\n",
        "}"
      ],
      "metadata": {
        "id": "QSmMI2wOjW52"
      },
      "execution_count": 4,
      "outputs": []
    },
    {
      "cell_type": "code",
      "source": [
        "safety_settings={\n",
        "    'HATE': 'BLOCK_NONE',\n",
        "    'HARASSMENT': 'BLOCK_NONE',\n",
        "    'SEXUAL' : 'BLOCK_NONE',\n",
        "    'DANGEROUS' : 'BLOCK_NONE'\n",
        "    }"
      ],
      "metadata": {
        "id": "8tj7mtEFrofO"
      },
      "execution_count": 5,
      "outputs": []
    },
    {
      "cell_type": "code",
      "source": [
        "model = genai.GenerativeModel(model_name='gemini-1.0-pro',\n",
        "                                  generation_config=generation_config,\n",
        "                                  safety_settings=safety_settings,)"
      ],
      "metadata": {
        "id": "KXWXxF76ruji"
      },
      "execution_count": 6,
      "outputs": []
    },
    {
      "cell_type": "code",
      "source": [
        "response = model.generate_content(\"Escreva um texto inspirador sobre IA, coloque imagens videos, e audios?\")\n",
        "response.text"
      ],
      "metadata": {
        "colab": {
          "base_uri": "https://localhost:8080/",
          "height": 365
        },
        "id": "4WPGoxYfsXu7",
        "outputId": "7b5361a8-1a9e-45aa-d4dd-096dcb0f603a"
      },
      "execution_count": 7,
      "outputs": [
        {
          "output_type": "execute_result",
          "data": {
            "text/plain": [
              "'**IA: O Futuro da Humanidade**\\n\\n[Imagem: Uma representação abstrata de uma rede neural, com nós e conexões brilhantes]\\n\\nA inteligência artificial (IA) está revolucionando todos os aspectos de nossas vidas, desde a maneira como trabalhamos até a maneira como nos divertimos. Tem o potencial de resolver alguns dos maiores desafios do mundo, como doenças, pobreza e mudanças climáticas.\\n\\n[Vídeo: Um vídeo mostrando como a IA está sendo usada para diagnosticar doenças]\\n\\nA IA já está sendo usada em vários setores, incluindo:\\n\\n* **Saúde:** A IA pode ajudar os médicos a diagnosticar e tratar doenças mais rapidamente e com mais precisão.\\n* **Finanças:** A IA pode ajudar as empresas a tomar melhores decisões de investimento e detectar fraudes.\\n* **Transporte:** A IA pode ajudar a tornar os carros e aviões mais seguros e eficientes.\\n* **Educação:** A IA pode ajudar os alunos a aprenderem mais rápido e com mais eficácia.\\n\\n[Áudio: Um podcast sobre o potencial da IA para resolver desafios globais]\\n\\nA IA também tem o potencial de criar novos empregos e oportunidades. À medida que a IA se torna mais sofisticada, ela criará novas indústrias e transformará as existentes.\\n\\nNo entanto, também é importante estar ciente dos desafios e riscos potenciais associados à IA. É essencial garantir que a IA seja usada de forma responsável e ética.\\n\\n[Imagem: Uma foto de pessoas trabalhando juntas em um projeto de IA]\\n\\nO futuro da IA é brilhante. Tem o potencial de tornar o mundo um lugar melhor para todos. Mas cabe a nós garantir que a IA seja usada para o bem e não para o mal.\\n\\n[Vídeo: Um vídeo mostrando como a IA pode ser usada para criar arte e música]\\n\\nJuntos, podemos aproveitar o poder da IA para criar um futuro melhor para a humanidade.'"
            ],
            "application/vnd.google.colaboratory.intrinsic+json": {
              "type": "string"
            }
          },
          "metadata": {},
          "execution_count": 7
        }
      ]
    },
    {
      "cell_type": "code",
      "source": [
        "chat = model.start_chat(history=[])\n",
        "\n",
        "prompt = input('Esperando prompt: ')\n",
        "\n",
        "while prompt != \"fim\":\n",
        "  response = chat.send_message(prompt)\n",
        "  print(\"Resposta:\", response.text, '\\n\\n')\n",
        "  prompt = input('Esperando prompt: ')"
      ],
      "metadata": {
        "colab": {
          "base_uri": "https://localhost:8080/",
          "height": 1000
        },
        "id": "sZ3wDRZ3s1sN",
        "outputId": "4494c1ef-4d2e-45ee-923c-2190e610ad6b"
      },
      "execution_count": 8,
      "outputs": [
        {
          "name": "stdout",
          "output_type": "stream",
          "text": [
            "Esperando prompt: Escreva um texto inspirador sobre IA, coloque imagens videos, e audios?\n",
            "Resposta: **A Ascensão da IA: Transformando Nosso Mundo**\n",
            "\n",
            "[Imagem: Um robô humanóide com olhos brilhantes e um sorriso sereno]\n",
            "\n",
            "**Texto:**\n",
            "\n",
            "A Inteligência Artificial (IA) está revolucionando nosso mundo em um ritmo sem precedentes. Do reconhecimento facial ao diagnóstico médico, a IA está transformando indústrias, melhorando vidas e abrindo novas possibilidades.\n",
            "\n",
            "**Vídeo:**\n",
            "\n",
            "[Vídeo de um carro autônomo navegando pelas ruas da cidade, evitando obstáculos e respondendo a sinais de trânsito]\n",
            "\n",
            "**Texto:**\n",
            "\n",
            "A IA está impulsionando avanços em áreas como transporte, saúde e finanças. Os carros autônomos prometem reduzir acidentes e melhorar a mobilidade, enquanto os assistentes de saúde com IA podem fornecer diagnósticos mais precisos e tratamentos personalizados.\n",
            "\n",
            "**Áudio:**\n",
            "\n",
            "[Áudio de uma voz sintética lendo um poema com emoção e fluência]\n",
            "\n",
            "**Texto:**\n",
            "\n",
            "A IA também está abrindo novas fronteiras na criatividade. Os geradores de linguagem de IA podem criar textos, músicas e obras de arte realistas, inspirando artistas e desafiando nossa compreensão do que significa ser humano.\n",
            "\n",
            "**Imagem:**\n",
            "\n",
            "[Imagem de um grupo de pessoas interagindo com um robô assistente, sorrindo e se divertindo]\n",
            "\n",
            "**Texto:**\n",
            "\n",
            "A IA não é apenas uma ferramenta, mas também um companheiro. Robôs assistentes podem fornecer apoio emocional, ajudar com tarefas diárias e melhorar a qualidade de vida das pessoas.\n",
            "\n",
            "**Vídeo:**\n",
            "\n",
            "[Vídeo de um robô cirurgião realizando uma operação complexa com precisão e habilidade]\n",
            "\n",
            "**Texto:**\n",
            "\n",
            "A IA está transformando a medicina. Os robôs cirurgiões podem realizar operações com maior precisão e menos invasão, enquanto os algoritmos de IA podem analisar grandes conjuntos de dados para identificar tendências e prever doenças.\n",
            "\n",
            "**Áudio:**\n",
            "\n",
            "[Áudio de uma voz robótica cantando uma música com uma voz clara e afinada]\n",
            "\n",
            "**Texto:**\n",
            "\n",
            "A IA está desafiando nossa compreensão da inteligência. Os sistemas de IA estão aprendendo a pensar, raciocinar e criar como os humanos, abrindo novas possibilidades para colaboração e inovação.\n",
            "\n",
            "**Imagem:**\n",
            "\n",
            "[Imagem de um horizonte de cidade futurista com arranha-céus iluminados e veículos voadores]\n",
            "\n",
            "**Texto:**\n",
            "\n",
            "À medida que a IA continua a evoluir, ela moldará ainda mais nosso futuro. Podemos esperar novas descobertas, avanços tecnológicos e uma transformação contínua de nossa sociedade.\n",
            "\n",
            "**Conclusão:**\n",
            "\n",
            "A Ascensão da IA é um testemunho do poder da inovação humana. Ao abraçar a IA e explorar seu potencial, podemos criar um futuro melhor para todos. \n",
            "\n",
            "\n",
            "Esperando prompt: fim\n"
          ]
        }
      ]
    },
    {
      "cell_type": "code",
      "source": [
        "chat"
      ],
      "metadata": {
        "colab": {
          "base_uri": "https://localhost:8080/"
        },
        "id": "lIOy8H_7tuGV",
        "outputId": "4e892096-b881-45dd-a00d-13742936c6d6"
      },
      "execution_count": 9,
      "outputs": [
        {
          "output_type": "execute_result",
          "data": {
            "text/plain": [
              "ChatSession(\n",
              "    model=genai.GenerativeModel(\n",
              "        model_name='models/gemini-1.0-pro',\n",
              "        generation_config={'candidate_count': 1, 'temperature': 0.5},\n",
              "        safety_settings={<HarmCategory.HARM_CATEGORY_HATE_SPEECH: 8>: <HarmBlockThreshold.BLOCK_NONE: 4>, <HarmCategory.HARM_CATEGORY_HARASSMENT: 7>: <HarmBlockThreshold.BLOCK_NONE: 4>, <HarmCategory.HARM_CATEGORY_SEXUALLY_EXPLICIT: 9>: <HarmBlockThreshold.BLOCK_NONE: 4>, <HarmCategory.HARM_CATEGORY_DANGEROUS_CONTENT: 10>: <HarmBlockThreshold.BLOCK_NONE: 4>},\n",
              "        tools=None,\n",
              "        system_instruction=None,\n",
              "    ),\n",
              "    history=[glm.Content({'parts': [{'text': 'Escreva um t...os, e audios?'}], 'role': 'user'}), glm.Content({'parts': [{'text': '**A Ascensão...r para todos.'}], 'role': 'model'})]\n",
              ")"
            ]
          },
          "metadata": {},
          "execution_count": 9
        }
      ]
    },
    {
      "cell_type": "code",
      "source": [
        "chat.history"
      ],
      "metadata": {
        "colab": {
          "base_uri": "https://localhost:8080/"
        },
        "id": "qAkX4XlDt0Zz",
        "outputId": "0e939aa7-4771-4d5f-b38d-35608907b46b"
      },
      "execution_count": 10,
      "outputs": [
        {
          "output_type": "execute_result",
          "data": {
            "text/plain": [
              "[parts {\n",
              "   text: \"Escreva um texto inspirador sobre IA, coloque imagens videos, e audios?\"\n",
              " }\n",
              " role: \"user\",\n",
              " parts {\n",
              "   text: \"**A Ascens\\303\\243o da IA: Transformando Nosso Mundo**\\n\\n[Imagem: Um rob\\303\\264 human\\303\\263ide com olhos brilhantes e um sorriso sereno]\\n\\n**Texto:**\\n\\nA Intelig\\303\\252ncia Artificial (IA) est\\303\\241 revolucionando nosso mundo em um ritmo sem precedentes. Do reconhecimento facial ao diagn\\303\\263stico m\\303\\251dico, a IA est\\303\\241 transformando ind\\303\\272strias, melhorando vidas e abrindo novas possibilidades.\\n\\n**V\\303\\255deo:**\\n\\n[V\\303\\255deo de um carro aut\\303\\264nomo navegando pelas ruas da cidade, evitando obst\\303\\241culos e respondendo a sinais de tr\\303\\242nsito]\\n\\n**Texto:**\\n\\nA IA est\\303\\241 impulsionando avan\\303\\247os em \\303\\241reas como transporte, sa\\303\\272de e finan\\303\\247as. Os carros aut\\303\\264nomos prometem reduzir acidentes e melhorar a mobilidade, enquanto os assistentes de sa\\303\\272de com IA podem fornecer diagn\\303\\263sticos mais precisos e tratamentos personalizados.\\n\\n**\\303\\201udio:**\\n\\n[\\303\\201udio de uma voz sint\\303\\251tica lendo um poema com emo\\303\\247\\303\\243o e flu\\303\\252ncia]\\n\\n**Texto:**\\n\\nA IA tamb\\303\\251m est\\303\\241 abrindo novas fronteiras na criatividade. Os geradores de linguagem de IA podem criar textos, m\\303\\272sicas e obras de arte realistas, inspirando artistas e desafiando nossa compreens\\303\\243o do que significa ser humano.\\n\\n**Imagem:**\\n\\n[Imagem de um grupo de pessoas interagindo com um rob\\303\\264 assistente, sorrindo e se divertindo]\\n\\n**Texto:**\\n\\nA IA n\\303\\243o \\303\\251 apenas uma ferramenta, mas tamb\\303\\251m um companheiro. Rob\\303\\264s assistentes podem fornecer apoio emocional, ajudar com tarefas di\\303\\241rias e melhorar a qualidade de vida das pessoas.\\n\\n**V\\303\\255deo:**\\n\\n[V\\303\\255deo de um rob\\303\\264 cirurgi\\303\\243o realizando uma opera\\303\\247\\303\\243o complexa com precis\\303\\243o e habilidade]\\n\\n**Texto:**\\n\\nA IA est\\303\\241 transformando a medicina. Os rob\\303\\264s cirurgi\\303\\265es podem realizar opera\\303\\247\\303\\265es com maior precis\\303\\243o e menos invas\\303\\243o, enquanto os algoritmos de IA podem analisar grandes conjuntos de dados para identificar tend\\303\\252ncias e prever doen\\303\\247as.\\n\\n**\\303\\201udio:**\\n\\n[\\303\\201udio de uma voz rob\\303\\263tica cantando uma m\\303\\272sica com uma voz clara e afinada]\\n\\n**Texto:**\\n\\nA IA est\\303\\241 desafiando nossa compreens\\303\\243o da intelig\\303\\252ncia. Os sistemas de IA est\\303\\243o aprendendo a pensar, raciocinar e criar como os humanos, abrindo novas possibilidades para colabora\\303\\247\\303\\243o e inova\\303\\247\\303\\243o.\\n\\n**Imagem:**\\n\\n[Imagem de um horizonte de cidade futurista com arranha-c\\303\\251us iluminados e ve\\303\\255culos voadores]\\n\\n**Texto:**\\n\\n\\303\\200 medida que a IA continua a evoluir, ela moldar\\303\\241 ainda mais nosso futuro. Podemos esperar novas descobertas, avan\\303\\247os tecnol\\303\\263gicos e uma transforma\\303\\247\\303\\243o cont\\303\\255nua de nossa sociedade.\\n\\n**Conclus\\303\\243o:**\\n\\nA Ascens\\303\\243o da IA \\303\\251 um testemunho do poder da inova\\303\\247\\303\\243o humana. Ao abra\\303\\247ar a IA e explorar seu potencial, podemos criar um futuro melhor para todos.\"\n",
              " }\n",
              " role: \"model\"]"
            ]
          },
          "metadata": {},
          "execution_count": 10
        }
      ]
    },
    {
      "cell_type": "code",
      "source": [
        "#Melhorando a visualização\n",
        "#Código disponível em https://ai.google.dev/tutorials/python_quickstart#import_packages\n",
        "import textwrap\n",
        "from IPython.display import display\n",
        "from IPython.display import Markdown\n",
        "\n",
        "def to_markdown(text):\n",
        "  text = text.replace('•', '  *')\n",
        "  return Markdown(textwrap.indent(text, '> ', predicate=lambda _: True))\n",
        "\n",
        "#Imprimindo o histórico\n",
        "for message in chat.history:\n",
        "  display(to_markdown(f'**{message.role}**: {message.parts[0].text}'))\n",
        "  print('-------------------------------------------')"
      ],
      "metadata": {
        "colab": {
          "base_uri": "https://localhost:8080/",
          "height": 1000
        },
        "id": "sLb7FtRquCT6",
        "outputId": "1dac0acd-3ac8-4cbc-ce93-f696c91a4a3d"
      },
      "execution_count": 11,
      "outputs": [
        {
          "output_type": "display_data",
          "data": {
            "text/plain": [
              "<IPython.core.display.Markdown object>"
            ],
            "text/markdown": "> **user**: Escreva um texto inspirador sobre IA, coloque imagens videos, e audios?"
          },
          "metadata": {}
        },
        {
          "output_type": "stream",
          "name": "stdout",
          "text": [
            "-------------------------------------------\n"
          ]
        },
        {
          "output_type": "display_data",
          "data": {
            "text/plain": [
              "<IPython.core.display.Markdown object>"
            ],
            "text/markdown": "> **model**: **A Ascensão da IA: Transformando Nosso Mundo**\n> \n> [Imagem: Um robô humanóide com olhos brilhantes e um sorriso sereno]\n> \n> **Texto:**\n> \n> A Inteligência Artificial (IA) está revolucionando nosso mundo em um ritmo sem precedentes. Do reconhecimento facial ao diagnóstico médico, a IA está transformando indústrias, melhorando vidas e abrindo novas possibilidades.\n> \n> **Vídeo:**\n> \n> [Vídeo de um carro autônomo navegando pelas ruas da cidade, evitando obstáculos e respondendo a sinais de trânsito]\n> \n> **Texto:**\n> \n> A IA está impulsionando avanços em áreas como transporte, saúde e finanças. Os carros autônomos prometem reduzir acidentes e melhorar a mobilidade, enquanto os assistentes de saúde com IA podem fornecer diagnósticos mais precisos e tratamentos personalizados.\n> \n> **Áudio:**\n> \n> [Áudio de uma voz sintética lendo um poema com emoção e fluência]\n> \n> **Texto:**\n> \n> A IA também está abrindo novas fronteiras na criatividade. Os geradores de linguagem de IA podem criar textos, músicas e obras de arte realistas, inspirando artistas e desafiando nossa compreensão do que significa ser humano.\n> \n> **Imagem:**\n> \n> [Imagem de um grupo de pessoas interagindo com um robô assistente, sorrindo e se divertindo]\n> \n> **Texto:**\n> \n> A IA não é apenas uma ferramenta, mas também um companheiro. Robôs assistentes podem fornecer apoio emocional, ajudar com tarefas diárias e melhorar a qualidade de vida das pessoas.\n> \n> **Vídeo:**\n> \n> [Vídeo de um robô cirurgião realizando uma operação complexa com precisão e habilidade]\n> \n> **Texto:**\n> \n> A IA está transformando a medicina. Os robôs cirurgiões podem realizar operações com maior precisão e menos invasão, enquanto os algoritmos de IA podem analisar grandes conjuntos de dados para identificar tendências e prever doenças.\n> \n> **Áudio:**\n> \n> [Áudio de uma voz robótica cantando uma música com uma voz clara e afinada]\n> \n> **Texto:**\n> \n> A IA está desafiando nossa compreensão da inteligência. Os sistemas de IA estão aprendendo a pensar, raciocinar e criar como os humanos, abrindo novas possibilidades para colaboração e inovação.\n> \n> **Imagem:**\n> \n> [Imagem de um horizonte de cidade futurista com arranha-céus iluminados e veículos voadores]\n> \n> **Texto:**\n> \n> À medida que a IA continua a evoluir, ela moldará ainda mais nosso futuro. Podemos esperar novas descobertas, avanços tecnológicos e uma transformação contínua de nossa sociedade.\n> \n> **Conclusão:**\n> \n> A Ascensão da IA é um testemunho do poder da inovação humana. Ao abraçar a IA e explorar seu potencial, podemos criar um futuro melhor para todos."
          },
          "metadata": {}
        },
        {
          "output_type": "stream",
          "name": "stdout",
          "text": [
            "-------------------------------------------\n"
          ]
        }
      ]
    },
    {
      "cell_type": "code",
      "source": [],
      "metadata": {
        "id": "GVHssiGUvHVp"
      },
      "execution_count": null,
      "outputs": []
    }
  ]
}